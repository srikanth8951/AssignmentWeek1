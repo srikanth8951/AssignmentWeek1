{
  "nbformat": 4,
  "nbformat_minor": 0,
  "metadata": {
    "colab": {
      "name": "BootcampDay1.ipynb",
      "provenance": [],
      "collapsed_sections": [],
      "authorship_tag": "ABX9TyPpvaZNvnT7TfkbtxCLADyu",
      "include_colab_link": true
    },
    "kernelspec": {
      "name": "python3",
      "display_name": "Python 3"
    }
  },
  "cells": [
    {
      "cell_type": "markdown",
      "metadata": {
        "id": "view-in-github",
        "colab_type": "text"
      },
      "source": [
        "<a href=\"https://colab.research.google.com/github/srikanth8951/AssignmentWeek1/blob/main/BootcampDay1.ipynb\" target=\"_parent\"><img src=\"https://colab.research.google.com/assets/colab-badge.svg\" alt=\"Open In Colab\"/></a>"
      ]
    },
    {
      "cell_type": "code",
      "metadata": {
        "id": "Aej1aFgkC8lT"
      },
      "source": [
        "x=[10,20,-30,40,50,-60]\r\n",
        "y=[]\r\n",
        "for m in x:\r\n",
        "  if(m>0):\r\n",
        "    y.append(m)\r\n",
        "print(y) #only positive number\r\n",
        "test_sum=0\r\n",
        "for i in x:\r\n",
        "  test_sum=test_sum+i\r\n",
        "print(test_sum) #sum of numbers in x\r\n",
        "z=x[0]\r\n",
        "for q in x:\r\n",
        "  if(q>z):\r\n",
        "    z=q\r\n",
        "print(z) # max number in x\r\n",
        "z=x[0]\r\n",
        "for p in x:\r\n",
        "  if(p<z):\r\n",
        "    z=p\r\n",
        "print(z) # min number in x\r\n"
      ],
      "execution_count": null,
      "outputs": []
    },
    {
      "cell_type": "code",
      "metadata": {
        "id": "5T1Zax4fOqhi"
      },
      "source": [
        "# Write a Python code to print second largest number in a list\r\n",
        "x.sort(reverse=True)\r\n",
        "\r\n",
        "if(len(x)>1):\r\n",
        "  print(x[1])"
      ],
      "execution_count": null,
      "outputs": []
    },
    {
      "cell_type": "code",
      "metadata": {
        "id": "ix01YRhWYT5P"
      },
      "source": [
        "# Write a Python code to count total number of negative elements in a list\r\n",
        "x=[10,20,-30,40,50,-60]\r\n",
        "test_count = 0\r\n",
        "for i in x:\r\n",
        "  if(i<0):\r\n",
        "    test_count = test_count + 1\r\n",
        "print(test_count)"
      ],
      "execution_count": null,
      "outputs": []
    },
    {
      "cell_type": "code",
      "metadata": {
        "id": "KMyYyG55aZ1E"
      },
      "source": [
        "# Write a Python code to remove duplicate elements in a list\r\n",
        "x=[10,20,-30,40,50,60,60]\r\n",
        "y=[]\r\n",
        "for m in x:\r\n",
        "  if m not in y:\r\n",
        "    y.append(m)\r\n",
        "print(y)"
      ],
      "execution_count": null,
      "outputs": []
    },
    {
      "cell_type": "code",
      "metadata": {
        "id": "DudkiFm2a4Hk"
      },
      "source": [
        "# Write a Python code to print duplicate elements in a list\r\n",
        "x=[10,20,-30,40,50,60,60]\r\n",
        "y=set(x)\r\n",
        "for m in y:\r\n",
        "  if(x.count(m)>1):\r\n",
        "    print(m)"
      ],
      "execution_count": null,
      "outputs": []
    },
    {
      "cell_type": "code",
      "metadata": {
        "id": "I_yEFwkOcEey"
      },
      "source": [
        "# Write a Python code to get common  elements in both list\r\n",
        "x=[10,20]\r\n",
        "y=[-30,20]\r\n",
        "a=set(x)\r\n",
        "b=set(y)\r\n",
        "z=a.intersection(b)\r\n",
        "print(z)"
      ],
      "execution_count": null,
      "outputs": []
    },
    {
      "cell_type": "code",
      "metadata": {
        "id": "FEPduQFkfUHN",
        "colab": {
          "base_uri": "https://localhost:8080/"
        },
        "outputId": "f90bf30f-a58c-41e0-ec11-45dc021cc15d"
      },
      "source": [
        "# Write a Python code to print most repetative number in a list\r\n",
        "x=[10,20,-30,40,50,50,60,60,60]\r\n",
        "unique =set(x)\r\n",
        "dict1={}\r\n",
        "for m in unique:\r\n",
        "  dict1[m]=x.count(m)\r\n",
        "print(dict1)\r\n",
        "max_value_count=max(list(dict1.values()))\r\n",
        "for key,value in dict1.items():\r\n",
        "  if(value==max_value_count):\r\n",
        "    print(key)"
      ],
      "execution_count": null,
      "outputs": [
        {
          "output_type": "stream",
          "text": [
            "{-30: 1, 40: 1, 10: 1, 50: 2, 20: 1, 60: 3}\n",
            "60\n"
          ],
          "name": "stdout"
        }
      ]
    },
    {
      "cell_type": "code",
      "metadata": {
        "id": "oDKwjcnbkPuL"
      },
      "source": [
        "# Write a Python code to print that element which is present in x but not in y list\r\n",
        "x=[10,20]\r\n",
        "y=[30,10]\r\n",
        "a=set(x)\r\n",
        "b=set(y)\r\n",
        "res = a.difference(y)\r\n",
        "print(res)"
      ],
      "execution_count": null,
      "outputs": []
    },
    {
      "cell_type": "code",
      "metadata": {
        "id": "blUrIYbVljcl"
      },
      "source": [
        "# Write a Python code to delete the key value pair from dictnory if the given value exists\r\n",
        "dict1={1:10, 2:20}\r\n",
        "key_input = int(input('enter the key has to be deleted'))\r\n",
        "if(dict1.__contains__(key_input)):\r\n",
        "  del dict1[key_input]\r\n",
        "  print(dict1)\r\n",
        "else:\r\n",
        "  print('Key is not available in dict')"
      ],
      "execution_count": null,
      "outputs": []
    },
    {
      "cell_type": "code",
      "metadata": {
        "colab": {
          "base_uri": "https://localhost:8080/"
        },
        "id": "yPENOdoZgT9O",
        "outputId": "32682532-decd-419c-f524-7332b8d52dc1"
      },
      "source": [
        "str1 = 'key value pair from dictnory if the given value exists'\r\n",
        "l= str1.split()\r\n",
        "print(l)\r\n",
        "dict1={}\r\n",
        "for i in l:\r\n",
        "  if(len(i) in dict1):\r\n",
        "    dict1[len(i)] +=','+i\r\n",
        "  else:\r\n",
        "    dict1[len(i)] = i\r\n",
        "print(dict1)\r\n"
      ],
      "execution_count": null,
      "outputs": [
        {
          "output_type": "stream",
          "text": [
            "['key', 'value', 'pair', 'from', 'dictnory', 'if', 'the', 'given', 'value', 'exists']\n",
            "{3: 'key,the', 5: 'value,given,value', 4: 'pair,from', 8: 'dictnory', 2: 'if', 6: 'exists'}\n"
          ],
          "name": "stdout"
        }
      ]
    }
  ]
}